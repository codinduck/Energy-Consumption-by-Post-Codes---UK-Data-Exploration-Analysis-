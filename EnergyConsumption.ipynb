{
 "cells": [
  {
   "cell_type": "code",
   "execution_count": 34,
   "id": "f3b29fa6-50de-437d-86df-acad6f559c81",
   "metadata": {},
   "outputs": [],
   "source": [
    "import findspark\n",
    "import pyspark.sql.functions as F\n",
    "from pyspark.sql.functions import round\n",
    "findspark.init()\n",
    "import pyspark\n",
    "from pyspark.sql import SparkSession\n",
    "from pyspark.sql.window import Window\n",
    "from pyspark.sql.types import IntegerType\n",
    "import mysql.connector\n",
    "\n",
    "spark = SparkSession.builder.appName(\"MySparkApp\").getOrCreate()"
   ]
  },
  {
   "cell_type": "code",
   "execution_count": 9,
   "id": "2c3c48d6-289f-420a-8a52-5a685eccbe8e",
   "metadata": {},
   "outputs": [],
   "source": [
    "year='2024'\n",
    "month='02'\n",
    "day='01'\n",
    "df = spark.read.option(\"header\", \"true\").csv(r\"C:\\Projects\\Practice\\Energy_Consumption_UK_split_by_post_codes.csv\")"
   ]
  },
  {
   "cell_type": "code",
   "execution_count": 10,
   "id": "4c8283a7-e96c-4401-b7ba-47f615a06df7",
   "metadata": {},
   "outputs": [
    {
     "name": "stdout",
     "output_type": "stream",
     "text": [
      "+--------+----------------+-----------------+----------------------+------------------------+--------------+---------------+-------------+\n",
      "|POSTCODE|Number of meters|Consumption (kWh)|Mean consumption (kWh)|Median consumption (kWh)|ingestion_year|ingestion_month|ingestion_day|\n",
      "+--------+----------------+-----------------+----------------------+------------------------+--------------+---------------+-------------+\n",
      "|AB10 1AU|              14|          60037.7|          4288.4071429|                  3479.2|          2024|             02|           01|\n",
      "|AB10 1BA|               8|          15282.9|             1910.3625|                 2051.45|          2024|             02|           01|\n",
      "|AB10 1FL|              21|            46042|          2192.4761905|                  1957.7|          2024|             02|           01|\n",
      "|AB10 1QH|              11|          43274.7|          3934.0636364|                  3139.7|          2024|             02|           01|\n",
      "|AB10 1QS|              16|          23146.7|            1446.66875|                 1050.25|          2024|             02|           01|\n",
      "|AB10 1RP|               5|          23753.9|               4750.78|                  1501.6|          2024|             02|           01|\n",
      "|AB10 1SE|              56|        201190.15|            3592.68125|                  2890.2|          2024|             02|           01|\n",
      "|AB10 1ST|              49|     202994.14894|          4142.7377334|                  3307.7|          2024|             02|           01|\n",
      "|AB10 1SY|               5|          23575.6|               4715.12|                  3207.8|          2024|             02|           01|\n",
      "|AB10 1TA|              28|         110181.5|          3935.0535714|                 3342.15|          2024|             02|           01|\n",
      "|AB10 1TB|              40|     173064.79574|          4326.6198936|                  3301.5|          2024|             02|           01|\n",
      "|AB10 1TD|               5|          37924.7|               7584.94|                  5810.7|          2024|             02|           01|\n",
      "|AB10 1TE|               5|          14438.2|               2887.64|                    2206|          2024|             02|           01|\n",
      "|AB10 1TF|              19|          57916.8|          3048.2526316|                    3068|          2024|             02|           01|\n",
      "|AB10 1UB|              10|          41081.1|               4108.11|                 4536.75|          2024|             02|           01|\n",
      "|AB10 1UG|              62|     330510.09787|          5330.8080302|                  4765.5|          2024|             02|           01|\n",
      "|AB10 1UH|              11|          55223.6|          5020.3272727|                    3603|          2024|             02|           01|\n",
      "|AB10 1WB|               7|          12214.7|          1744.9571429|                  1983.8|          2024|             02|           01|\n",
      "|AB10 1XD|               5|          30969.1|               6193.82|                  4758.7|          2024|             02|           01|\n",
      "|AB10 6AA|               9|          31628.3|          3514.2555556|                  2830.2|          2024|             02|           01|\n",
      "+--------+----------------+-----------------+----------------------+------------------------+--------------+---------------+-------------+\n",
      "only showing top 20 rows\n",
      "\n"
     ]
    }
   ],
   "source": [
    "df2 = df.filter(\"LENGTH(POSTCODE) > 4\")\n",
    "df2 = df2.withColumn(\"ingestion_year\", F.lit(year)).withColumn(\"ingestion_month\", F.lit(month)).withColumn(\"ingestion_day\", F.lit(day))\n",
    "df2.show()"
   ]
  },
  {
   "cell_type": "code",
   "execution_count": 12,
   "id": "196bf766-e8fc-4c9d-9d4a-5799e23cb2ce",
   "metadata": {},
   "outputs": [
    {
     "name": "stdout",
     "output_type": "stream",
     "text": [
      "+--------+----------------+-----------------+----------------------+------------------------+--------------+---------------+-------------+\n",
      "|POSTCODE|Number of meters|Consumption (kWh)|Mean consumption (kWh)|Median consumption (kWh)|ingestion_year|ingestion_month|ingestion_day|\n",
      "+--------+----------------+-----------------+----------------------+------------------------+--------------+---------------+-------------+\n",
      "|AB10 1AU|              14|          60037.7|          4288.4071429|                  3479.2|          2024|             02|           01|\n",
      "|AB10 1BA|               8|          15282.9|             1910.3625|                 2051.45|          2024|             02|           01|\n",
      "|AB10 1FL|              21|            46042|          2192.4761905|                  1957.7|          2024|             02|           01|\n",
      "|AB10 1QH|              11|          43274.7|          3934.0636364|                  3139.7|          2024|             02|           01|\n",
      "|AB10 1QS|              16|          23146.7|            1446.66875|                 1050.25|          2024|             02|           01|\n",
      "|AB10 1RP|               5|          23753.9|               4750.78|                  1501.6|          2024|             02|           01|\n",
      "|AB10 1SE|              56|        201190.15|            3592.68125|                  2890.2|          2024|             02|           01|\n",
      "|AB10 1ST|              49|     202994.14894|          4142.7377334|                  3307.7|          2024|             02|           01|\n",
      "|AB10 1SY|               5|          23575.6|               4715.12|                  3207.8|          2024|             02|           01|\n",
      "|AB10 1TA|              28|         110181.5|          3935.0535714|                 3342.15|          2024|             02|           01|\n",
      "|AB10 1TB|              40|     173064.79574|          4326.6198936|                  3301.5|          2024|             02|           01|\n",
      "|AB10 1TD|               5|          37924.7|               7584.94|                  5810.7|          2024|             02|           01|\n",
      "|AB10 1TE|               5|          14438.2|               2887.64|                    2206|          2024|             02|           01|\n",
      "|AB10 1TF|              19|          57916.8|          3048.2526316|                    3068|          2024|             02|           01|\n",
      "|AB10 1UB|              10|          41081.1|               4108.11|                 4536.75|          2024|             02|           01|\n",
      "|AB10 1UG|              62|     330510.09787|          5330.8080302|                  4765.5|          2024|             02|           01|\n",
      "|AB10 1UH|              11|          55223.6|          5020.3272727|                    3603|          2024|             02|           01|\n",
      "|AB10 1WB|               7|          12214.7|          1744.9571429|                  1983.8|          2024|             02|           01|\n",
      "|AB10 1XD|               5|          30969.1|               6193.82|                  4758.7|          2024|             02|           01|\n",
      "|AB10 6AA|               9|          31628.3|          3514.2555556|                  2830.2|          2024|             02|           01|\n",
      "+--------+----------------+-----------------+----------------------+------------------------+--------------+---------------+-------------+\n",
      "only showing top 20 rows\n",
      "\n"
     ]
    }
   ],
   "source": [
    "df2 = df2.withColumn(\"ingestion_year\", F.lit(year)).withColumn(\"ingestion_month\", F.lit(month)).withColumn(\"ingestion_day\", F.lit(day))\n",
    "df2.show()"
   ]
  },
  {
   "cell_type": "code",
   "execution_count": 44,
   "id": "eb933efe-caf8-4b6e-acd3-c0f902b7ee24",
   "metadata": {},
   "outputs": [
    {
     "name": "stdout",
     "output_type": "stream",
     "text": [
      "root\n",
      " |-- POSTCODE: string (nullable = true)\n",
      " |-- Number of meters: string (nullable = true)\n",
      " |-- Consumption (kWh): string (nullable = true)\n",
      " |-- Mean consumption (kWh): string (nullable = true)\n",
      " |-- Median consumption (kWh): string (nullable = true)\n",
      " |-- ingestion_year: string (nullable = false)\n",
      " |-- ingestion_month: string (nullable = false)\n",
      " |-- ingestion_day: string (nullable = false)\n",
      " |-- POSTCODE_BYAREA: string (nullable = true)\n",
      " |-- Consumption_kWh: double (nullable = true)\n",
      "\n",
      "+---------------+--------------------+\n",
      "|POSTCODE_BYAREA|sum(Consumption_kWh)|\n",
      "+---------------+--------------------+\n",
      "|CO8            |1441945.2000000004  |\n",
      "|CT17           |4257778.578065      |\n",
      "|DY3            |2237945.783175      |\n",
      "|IP15           |1779425.7572649997  |\n",
      "|KA3            |1525747.56374       |\n",
      "|DD3            |7348844.754419003   |\n",
      "|DE21           |3.2220420655308988E7|\n",
      "|DG16           |416330.49762100005  |\n",
      "|EC1Y           |1411288.81667       |\n",
      "|EH4            |1.4827090455311993E7|\n",
      "|HS1            |2952944.5           |\n",
      "|KT14           |3502502.5545449997  |\n",
      "|B23            |1.2517250493485007E7|\n",
      "|BS14           |3288532.9637649995  |\n",
      "|CT8            |2157290.400000001   |\n",
      "|EX22           |5833553.773886002   |\n",
      "|HD4            |1798287.624635      |\n",
      "|HP2            |1.4897150299611019E7|\n",
      "|IP23           |6955271.239393999   |\n",
      "|AB35           |4566984.0           |\n",
      "+---------------+--------------------+\n",
      "only showing top 20 rows\n",
      "\n"
     ]
    }
   ],
   "source": [
    "dffinal= df2.withColumn(\"POSTCODE_BYAREA\", F.expr(\"SUBSTR(POSTCODE, 0, 4)\")).withColumn(\"Consumption_kWh\", df2[\"Consumption (kWh)\"].cast('double'))\n",
    "dffinal.printSchema()\n",
    "dfsum = dffinal.groupBy(\"POSTCODE_BYAREA\").sum(\"Consumption_kWh\")\n",
    "dfsum.show(truncate = False)"
   ]
  },
  {
   "cell_type": "code",
   "execution_count": null,
   "id": "02634b20-29fa-44bc-8de7-692f6fe7264c",
   "metadata": {},
   "outputs": [],
   "source": []
  },
  {
   "cell_type": "code",
   "execution_count": null,
   "id": "698bd5cd-a9e9-44e9-9c0a-0c3219f2c163",
   "metadata": {},
   "outputs": [],
   "source": []
  }
 ],
 "metadata": {
  "kernelspec": {
   "display_name": "Python 3 (ipykernel)",
   "language": "python",
   "name": "python3"
  },
  "language_info": {
   "codemirror_mode": {
    "name": "ipython",
    "version": 3
   },
   "file_extension": ".py",
   "mimetype": "text/x-python",
   "name": "python",
   "nbconvert_exporter": "python",
   "pygments_lexer": "ipython3",
   "version": "3.11.5"
  }
 },
 "nbformat": 4,
 "nbformat_minor": 5
}
