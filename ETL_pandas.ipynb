{
 "cells": [
  {
   "cell_type": "code",
   "execution_count": 1,
   "id": "084a9dbe-81f9-4ecd-baab-fb9593d5a1fb",
   "metadata": {},
   "outputs": [],
   "source": [
    "import pandas as pd\n",
    "import numpy as np"
   ]
  },
  {
   "cell_type": "code",
   "execution_count": 2,
   "id": "67df8653-3ade-4085-bbe6-a6741da87293",
   "metadata": {},
   "outputs": [],
   "source": [
    "df = pd.read_csv(r\"C:\\Projects\\Practice\\Energy_Consumption_UK_split_by_post_codes.csv\")"
   ]
  },
  {
   "cell_type": "code",
   "execution_count": 19,
   "id": "a6ab29e2-812c-44ea-98af-a89db6fe582e",
   "metadata": {},
   "outputs": [
    {
     "name": "stdout",
     "output_type": "stream",
     "text": [
      "        POSTCODE  Number of meters  Consumption (kWh)  Mean consumption (kWh)  \\\n",
      "1       AB10 1AU                14            60037.7             4288.407143   \n",
      "2       AB10 1BA                 8            15282.9             1910.362500   \n",
      "3       AB10 1FL                21            46042.0             2192.476191   \n",
      "4       AB10 1QH                11            43274.7             3934.063636   \n",
      "5       AB10 1QS                16            23146.7             1446.668750   \n",
      "...          ...               ...                ...                     ...   \n",
      "235197   ZE3 9JU                20           123322.3             6166.115000   \n",
      "235198   ZE3 9JW                 8            81863.0            10232.875000   \n",
      "235199   ZE3 9JX                14           109263.0             7804.500000   \n",
      "235200   ZE3 9JY                13            89251.8             6865.523077   \n",
      "235201   ZE3 9JZ                22           147750.1             6715.913636   \n",
      "\n",
      "        Median consumption (kWh) ingestion_year ingestion_month ingestion_day  \n",
      "1                        3479.20           2024              02            01  \n",
      "2                        2051.45           2024              02            01  \n",
      "3                        1957.70           2024              02            01  \n",
      "4                        3139.70           2024              02            01  \n",
      "5                        1050.25           2024              02            01  \n",
      "...                          ...            ...             ...           ...  \n",
      "235197                   6920.75           2024              02            01  \n",
      "235198                  10914.05           2024              02            01  \n",
      "235199                   8166.60           2024              02            01  \n",
      "235200                   6601.00           2024              02            01  \n",
      "235201                   7257.70           2024              02            01  \n",
      "\n",
      "[232510 rows x 8 columns]\n"
     ]
    },
    {
     "name": "stderr",
     "output_type": "stream",
     "text": [
      "C:\\Users\\ratru\\AppData\\Local\\Temp\\ipykernel_25492\\3042334130.py:5: SettingWithCopyWarning: \n",
      "A value is trying to be set on a copy of a slice from a DataFrame.\n",
      "Try using .loc[row_indexer,col_indexer] = value instead\n",
      "\n",
      "See the caveats in the documentation: https://pandas.pydata.org/pandas-docs/stable/user_guide/indexing.html#returning-a-view-versus-a-copy\n",
      "  dffiltered['ingestion_year'] = year\n",
      "C:\\Users\\ratru\\AppData\\Local\\Temp\\ipykernel_25492\\3042334130.py:6: SettingWithCopyWarning: \n",
      "A value is trying to be set on a copy of a slice from a DataFrame.\n",
      "Try using .loc[row_indexer,col_indexer] = value instead\n",
      "\n",
      "See the caveats in the documentation: https://pandas.pydata.org/pandas-docs/stable/user_guide/indexing.html#returning-a-view-versus-a-copy\n",
      "  dffiltered['ingestion_month'] = month\n",
      "C:\\Users\\ratru\\AppData\\Local\\Temp\\ipykernel_25492\\3042334130.py:7: SettingWithCopyWarning: \n",
      "A value is trying to be set on a copy of a slice from a DataFrame.\n",
      "Try using .loc[row_indexer,col_indexer] = value instead\n",
      "\n",
      "See the caveats in the documentation: https://pandas.pydata.org/pandas-docs/stable/user_guide/indexing.html#returning-a-view-versus-a-copy\n",
      "  dffiltered['ingestion_day'] = day\n"
     ]
    }
   ],
   "source": [
    "year = '2024'\n",
    "month = '02'\n",
    "day = '01'\n",
    "dffiltered = df[df['POSTCODE'].str.len() > 4]\n",
    "dffiltered['ingestion_year'] = year\n",
    "dffiltered['ingestion_month'] = month\n",
    "dffiltered['ingestion_day'] = day"
   ]
  },
  {
   "cell_type": "code",
   "execution_count": null,
   "id": "f603597e-98ab-4dce-9141-f7744803c59b",
   "metadata": {},
   "outputs": [],
   "source": []
  }
 ],
 "metadata": {
  "kernelspec": {
   "display_name": "Python 3 (ipykernel)",
   "language": "python",
   "name": "python3"
  },
  "language_info": {
   "codemirror_mode": {
    "name": "ipython",
    "version": 3
   },
   "file_extension": ".py",
   "mimetype": "text/x-python",
   "name": "python",
   "nbconvert_exporter": "python",
   "pygments_lexer": "ipython3",
   "version": "3.11.5"
  }
 },
 "nbformat": 4,
 "nbformat_minor": 5
}
